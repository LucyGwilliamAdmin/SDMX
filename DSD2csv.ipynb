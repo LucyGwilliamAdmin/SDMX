{
 "cells": [
  {
   "cell_type": "code",
   "execution_count": 1,
   "metadata": {
    "collapsed": true
   },
   "outputs": [],
   "source": [
    "import lxml.etree as ET\n",
    "import csv\n",
    "import pandas as pd\n",
    "import numpy as np"
   ]
  },
  {
   "cell_type": "code",
   "execution_count": 2,
   "metadata": {
    "collapsed": true
   },
   "outputs": [],
   "source": [
    "xml_file = ET.parse(\"SDG_DSDv0.7.xml\")\n",
    "xml = xml_file.getroot()"
   ]
  },
  {
   "cell_type": "code",
   "execution_count": 3,
   "metadata": {
    "collapsed": true
   },
   "outputs": [],
   "source": [
    "csv_data=pd.DataFrame(columns=[\"Codelist\", \"Code\", \"Name\"])"
   ]
  },
  {
   "cell_type": "code",
   "execution_count": 4,
   "metadata": {
    "collapsed": true
   },
   "outputs": [],
   "source": [
    "for codelist in xml.iter(\"{http://www.sdmx.org/resources/sdmxml/schemas/v2_1/structure}Codelist\"):\n",
    "    codelist_id=str(codelist.attrib).split(\",\")[0].split(\"_\",1)[1].strip(\"'\")\n",
    "    for code in codelist.findall(\"{http://www.sdmx.org/resources/sdmxml/schemas/v2_1/structure}Code\"):\n",
    "        code_id=str(code.attrib).split(\",\")[0].split(\" \")[1].strip(\"'\")\n",
    "        for name in code.findall(\"{http://www.sdmx.org/resources/sdmxml/schemas/v2_1/common}Name\"):\n",
    "            code_name=str(name.text)\n",
    "            row=pd.DataFrame([[codelist_id, code_id, code_name]], columns=[\"Codelist\", \"Code\", \"Name\"])\n",
    "        csv_data=csv_data.append(row)\n",
    "            "
   ]
  },
  {
   "cell_type": "code",
   "execution_count": 7,
   "metadata": {},
   "outputs": [],
   "source": [
    "csv_data.to_csv(\"codelists.csv\", index=False, encoding=\"utf-8\")"
   ]
  }
 ],
 "metadata": {
  "kernelspec": {
   "display_name": "Python 3",
   "language": "python",
   "name": "python3"
  },
  "language_info": {
   "codemirror_mode": {
    "name": "ipython",
    "version": 3
   },
   "file_extension": ".py",
   "mimetype": "text/x-python",
   "name": "python",
   "nbconvert_exporter": "python",
   "pygments_lexer": "ipython3",
   "version": "3.6.1"
  }
 },
 "nbformat": 4,
 "nbformat_minor": 2
}
